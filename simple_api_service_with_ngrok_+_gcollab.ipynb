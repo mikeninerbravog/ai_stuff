{
  "nbformat": 4,
  "nbformat_minor": 0,
  "metadata": {
    "colab": {
      "provenance": [],
      "toc_visible": true
    },
    "kernelspec": {
      "name": "python3",
      "display_name": "Python 3"
    }
  },
  "cells": [
    {
      "cell_type": "code",
      "metadata": {
        "id": "15FGYusaCg2s",
        "outputId": "4c6d5e00-6cd5-48eb-91a6-58191c435806",
        "colab": {
          "base_uri": "https://localhost:8080/"
        }
      },
      "source": [
        "!pip install flask\n",
        "!pip install pyngrok"
      ],
      "execution_count": 8,
      "outputs": [
        {
          "output_type": "stream",
          "name": "stdout",
          "text": [
            "Requirement already satisfied: flask in /usr/local/lib/python3.10/dist-packages (3.0.3)\n",
            "Requirement already satisfied: Werkzeug>=3.0.0 in /usr/local/lib/python3.10/dist-packages (from flask) (3.1.3)\n",
            "Requirement already satisfied: Jinja2>=3.1.2 in /usr/local/lib/python3.10/dist-packages (from flask) (3.1.4)\n",
            "Requirement already satisfied: itsdangerous>=2.1.2 in /usr/local/lib/python3.10/dist-packages (from flask) (2.2.0)\n",
            "Requirement already satisfied: click>=8.1.3 in /usr/local/lib/python3.10/dist-packages (from flask) (8.1.7)\n",
            "Requirement already satisfied: blinker>=1.6.2 in /usr/local/lib/python3.10/dist-packages (from flask) (1.9.0)\n",
            "Requirement already satisfied: MarkupSafe>=2.0 in /usr/local/lib/python3.10/dist-packages (from Jinja2>=3.1.2->flask) (3.0.2)\n",
            "Requirement already satisfied: pyngrok in /usr/local/lib/python3.10/dist-packages (7.2.1)\n",
            "Requirement already satisfied: PyYAML>=5.1 in /usr/local/lib/python3.10/dist-packages (from pyngrok) (6.0.2)\n"
          ]
        }
      ]
    },
    {
      "cell_type": "code",
      "source": [
        "!ngrok config add-authtoken YOUR-NGROK-API-HERE"
      ],
      "metadata": {
        "colab": {
          "base_uri": "https://localhost:8080/"
        },
        "id": "LMdzg-7VKcdn",
        "outputId": "7b694464-350b-4edf-a99f-72757b43a92e"
      },
      "execution_count": 9,
      "outputs": [
        {
          "output_type": "stream",
          "name": "stdout",
          "text": [
            "Authtoken saved to configuration file: /root/.config/ngrok/ngrok.yml\n"
          ]
        }
      ]
    },
    {
      "cell_type": "code",
      "metadata": {
        "id": "vPc_bodwBQmM",
        "cellView": "code",
        "outputId": "65cb2ca2-ca10-41a8-c43a-00ae8c45ba1c",
        "colab": {
          "base_uri": "https://localhost:8080/"
        }
      },
      "source": [
        "import getpass\n",
        "import os\n",
        "import threading\n",
        "import requests\n",
        "\n",
        "from flask import Flask, request, jsonify\n",
        "from pyngrok import ngrok, conf\n",
        "\n",
        "# Initialize Flask app\n",
        "app = Flask(__name__)\n",
        "port = \"5000\"\n",
        "\n",
        "# Open an ngrok tunnel to the HTTP server\n",
        "public_url = ngrok.connect(port).public_url\n",
        "print(f\" * ngrok tunnel \\\"{public_url}\\\" -> \\\"http://127.0.0.1:{port}\\\"\")\n",
        "\n",
        "# Update any base URLs to use the public ngrok URL\n",
        "app.config[\"BASE_URL\"] = public_url\n",
        "\n",
        "# OpenWeatherMap API (Replace 'your_api_key_here' with your actual API key)\n",
        "WEATHER_API_KEY = \"YOUR-OPENWEATHERMAP-API-HERE\"\n",
        "WEATHER_API_URL = \"https://api.openweathermap.org/data/2.5/weather\"\n",
        "\n",
        "@app.route(\"/\")\n",
        "def index():\n",
        "    return \"Welcome to the Enhanced Flask App! Use the /weather endpoint to get live weather data.\"\n",
        "\n",
        "@app.route(\"/weather\", methods=[\"GET\"])\n",
        "def get_weather():\n",
        "    \"\"\"Fetch weather data for a given city\"\"\"\n",
        "    city = request.args.get(\"city\", default=\"London\", type=str)\n",
        "    params = {\n",
        "        \"q\": city,\n",
        "        \"appid\": WEATHER_API_KEY,\n",
        "        \"units\": \"metric\"\n",
        "    }\n",
        "    response = requests.get(WEATHER_API_URL, params=params)\n",
        "\n",
        "    if response.status_code == 200:\n",
        "        weather_data = response.json()\n",
        "        return jsonify({\n",
        "            \"city\": weather_data[\"name\"],\n",
        "            \"temperature\": weather_data[\"main\"][\"temp\"],\n",
        "            \"description\": weather_data[\"weather\"][0][\"description\"]\n",
        "        })\n",
        "    else:\n",
        "        return jsonify({\"error\": \"Unable to fetch weather data. Check the city name or API key.\"}), response.status_code\n",
        "\n",
        "# Start the Flask server in a new thread\n",
        "threading.Thread(target=app.run, kwargs={\"use_reloader\": False}).start()\n"
      ],
      "execution_count": 10,
      "outputs": [
        {
          "output_type": "stream",
          "name": "stdout",
          "text": [
            " * ngrok tunnel \"https://d1ea-35-234-175-211.ngrok-free.app\" -> \"http://127.0.0.1:5000\"\n",
            " * Serving Flask app '__main__'\n",
            " * Debug mode: off\n"
          ]
        },
        {
          "output_type": "stream",
          "name": "stderr",
          "text": [
            "Address already in use\n",
            "Port 5000 is in use by another program. Either identify and stop that program, or start the server with a different port.\n"
          ]
        }
      ]
    }
  ]
}